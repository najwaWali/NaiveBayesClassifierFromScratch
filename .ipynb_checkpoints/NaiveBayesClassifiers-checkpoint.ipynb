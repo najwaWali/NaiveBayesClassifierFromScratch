{
 "cells": [
  {
   "cell_type": "markdown",
   "metadata": {},
   "source": [
    "# Naive Bayes Classifiers\n",
    "\n",
    "## CSPCS433 - Assignment 1\n",
    "\n",
    "#### Najwa Noor Wali \n",
    "#### ID: 1507697\n",
    "#### Section: GAR\n",
    "\n",
    "### Import Essential Libraries"
   ]
  },
  {
   "cell_type": "code",
   "execution_count": 2,
   "metadata": {
    "scrolled": true
   },
   "outputs": [],
   "source": [
    "#Import important libraries\n",
    "import pandas as pd\n",
    "import csv\n",
    "import os\n",
    "import numpy as np \n",
    "import random\n",
    "import math\n",
    "import matplotlib.pyplot as plt\n",
    "import seaborn as sns"
   ]
  },
  {
   "cell_type": "markdown",
   "metadata": {},
   "source": [
    "### Needed Methods\n",
    "\n",
    "##### getAccuracy is used to calculate the accuracy, precision and recall"
   ]
  },
  {
   "cell_type": "code",
   "execution_count": 3,
   "metadata": {
    "scrolled": true
   },
   "outputs": [],
   "source": [
    "def getAccuracy(prediction, testC):\n",
    "    \n",
    "    trueP, trueN, falseP, falseN = 0, 0, 0, 0\n",
    "    \n",
    "    for i in range(len(prediction)):\n",
    "        if prediction[i] == testC[i]:\n",
    "            if prediction[i] == 1:\n",
    "                trueP +=1\n",
    "            else:\n",
    "                trueN += 1\n",
    "        else:\n",
    "            if prediction[i] == 1:\n",
    "                falseP += 1\n",
    "            else:\n",
    "                falseN += 1\n",
    "                \n",
    "    \n",
    "    accuracy = ((trueP + trueN)/(len(prediction)))*100\n",
    "    precision = trueP /float(trueP + falseP)\n",
    "    recall = trueP/float(trueP + falseN)\n",
    "    \n",
    "\n",
    "    return  [accuracy, precision, recall]"
   ]
  },
  {
   "cell_type": "markdown",
   "metadata": {},
   "source": [
    "##### Calculate is used to calculate the liklehood of each feature in each row"
   ]
  },
  {
   "cell_type": "code",
   "execution_count": 4,
   "metadata": {
    "scrolled": true
   },
   "outputs": [],
   "source": [
    "def Calculate(meanAndVariance, dataset, prior):\n",
    "    \n",
    "    # Convert dataframe into a list\n",
    "    dataList  = dataset.values.tolist()\n",
    "    # To store predicts of all rows\n",
    "    predict = []\n",
    "    \n",
    "    for i in range(len(dataList)):\n",
    "        p = 1\n",
    "        for j in range(len(dataList[i])):\n",
    "            exponent = math.exp(-(math.pow(dataList[i][j]-meanAndVariance[j][0],2)/(2*math.pow(meanAndVariance[j][1],2))))\n",
    "            p = p * (1/(math.sqrt(2*math.pi) *meanAndVariance[j][1])) * exponent\n",
    "        predict.append((p*prior))\n",
    "            \n",
    "    return predict\n",
    "    "
   ]
  },
  {
   "cell_type": "code",
   "execution_count": 5,
   "metadata": {
    "scrolled": true
   },
   "outputs": [],
   "source": [
    "def variance(dataset, MV ):\n",
    "    \n",
    "    #Convert dataframe into a list since it's easier to me when calculating the variance\n",
    "    DataList  = dataset.values.tolist()\n",
    "    \n",
    "    #Calculate variance for features of positive class\n",
    "    for i in range(8):\n",
    "        # To calculate deviations of each data point\n",
    "        d = 0\n",
    "        \n",
    "        for j in range(len(DataList)):\n",
    "            d += pow((DataList[j][i] - MV[i][0]),2)\n",
    "        \n",
    "        d = (d/float((len(dataset[\"class\"]))))\n",
    "        MV[i].append(math.sqrt(d))\n",
    "        \n",
    "    \n",
    "    return MV"
   ]
  },
  {
   "cell_type": "code",
   "execution_count": 6,
   "metadata": {
    "scrolled": true
   },
   "outputs": [],
   "source": [
    "def mean(datasetP, datasetN):\n",
    "    \n",
    "    #Get mean and variance for both positive and negative class\n",
    "    positiveMV = []\n",
    "    negativeMV = []\n",
    "    \n",
    "    #Traverse columns\n",
    "    for column in datasetP:\n",
    "        \n",
    "        # break the loop since I don't need to calculate the mean of the class\n",
    "        if column == 'class':\n",
    "            break\n",
    "            \n",
    "        meanVictorP = [sum(datasetP[column])/(len(datasetP[column]))]\n",
    "        positiveMV.append(meanVictorP)\n",
    "        \n",
    "        meanVictorN = [sum(datasetN[column])/(len(datasetN[column]))]\n",
    "        negativeMV.append(meanVictorN)\n",
    "        \n",
    "    return [positiveMV, negativeMV]"
   ]
  },
  {
   "cell_type": "code",
   "execution_count": 7,
   "metadata": {
    "scrolled": true
   },
   "outputs": [],
   "source": [
    "def splitByClass(dataset):\n",
    "    \n",
    "    #Split by positive class\n",
    "    positiveT = dataset[dataset['class'] == 1]\n",
    "    \n",
    "    #Split by negative class\n",
    "    negativeT = dataset[dataset['class'] == 0]\n",
    "    \n",
    "    return [positiveT, negativeT]\n",
    "    "
   ]
  },
  {
   "cell_type": "code",
   "execution_count": 8,
   "metadata": {
    "scrolled": true
   },
   "outputs": [],
   "source": [
    "def splitData(dataset):\n",
    "    \n",
    "    #The dataset split for the test is 20% and for the training is 80%\n",
    "     \n",
    "    #Defining number of rows for the testing set\n",
    "    testingRows = math.floor((len(dataset)*20)/100)\n",
    "    \n",
    "    #Splitting the data into testing set. The rest will be the training set.\n",
    "    test = dataset.iloc[:testingRows,:]\n",
    "    train = dataset.iloc[testingRows:,:] \n",
    "    \n",
    "    return [test, train]"
   ]
  },
  {
   "cell_type": "markdown",
   "metadata": {},
   "source": [
    "### Run\n",
    "###### 1. Read the data from CSV file"
   ]
  },
  {
   "cell_type": "code",
   "execution_count": 9,
   "metadata": {
    "scrolled": true
   },
   "outputs": [
    {
     "data": {
      "text/html": [
       "<div>\n",
       "<style scoped>\n",
       "    .dataframe tbody tr th:only-of-type {\n",
       "        vertical-align: middle;\n",
       "    }\n",
       "\n",
       "    .dataframe tbody tr th {\n",
       "        vertical-align: top;\n",
       "    }\n",
       "\n",
       "    .dataframe thead th {\n",
       "        text-align: right;\n",
       "    }\n",
       "</style>\n",
       "<table border=\"1\" class=\"dataframe\">\n",
       "  <thead>\n",
       "    <tr style=\"text-align: right;\">\n",
       "      <th></th>\n",
       "      <th>preg</th>\n",
       "      <th>plas</th>\n",
       "      <th>pres</th>\n",
       "      <th>skin</th>\n",
       "      <th>insu</th>\n",
       "      <th>mass</th>\n",
       "      <th>pedi</th>\n",
       "      <th>age</th>\n",
       "      <th>class</th>\n",
       "    </tr>\n",
       "  </thead>\n",
       "  <tbody>\n",
       "    <tr>\n",
       "      <td>0</td>\n",
       "      <td>6</td>\n",
       "      <td>148</td>\n",
       "      <td>72</td>\n",
       "      <td>35</td>\n",
       "      <td>0</td>\n",
       "      <td>33.6</td>\n",
       "      <td>0.627</td>\n",
       "      <td>50</td>\n",
       "      <td>tested_positive</td>\n",
       "    </tr>\n",
       "    <tr>\n",
       "      <td>1</td>\n",
       "      <td>1</td>\n",
       "      <td>85</td>\n",
       "      <td>66</td>\n",
       "      <td>29</td>\n",
       "      <td>0</td>\n",
       "      <td>26.6</td>\n",
       "      <td>0.351</td>\n",
       "      <td>31</td>\n",
       "      <td>tested_negative</td>\n",
       "    </tr>\n",
       "    <tr>\n",
       "      <td>2</td>\n",
       "      <td>8</td>\n",
       "      <td>183</td>\n",
       "      <td>64</td>\n",
       "      <td>0</td>\n",
       "      <td>0</td>\n",
       "      <td>23.3</td>\n",
       "      <td>0.672</td>\n",
       "      <td>32</td>\n",
       "      <td>tested_positive</td>\n",
       "    </tr>\n",
       "    <tr>\n",
       "      <td>3</td>\n",
       "      <td>1</td>\n",
       "      <td>89</td>\n",
       "      <td>66</td>\n",
       "      <td>23</td>\n",
       "      <td>94</td>\n",
       "      <td>28.1</td>\n",
       "      <td>0.167</td>\n",
       "      <td>21</td>\n",
       "      <td>tested_negative</td>\n",
       "    </tr>\n",
       "    <tr>\n",
       "      <td>4</td>\n",
       "      <td>0</td>\n",
       "      <td>137</td>\n",
       "      <td>40</td>\n",
       "      <td>35</td>\n",
       "      <td>168</td>\n",
       "      <td>43.1</td>\n",
       "      <td>2.288</td>\n",
       "      <td>33</td>\n",
       "      <td>tested_positive</td>\n",
       "    </tr>\n",
       "  </tbody>\n",
       "</table>\n",
       "</div>"
      ],
      "text/plain": [
       "   preg  plas  pres  skin  insu  mass   pedi  age            class\n",
       "0     6   148    72    35     0  33.6  0.627   50  tested_positive\n",
       "1     1    85    66    29     0  26.6  0.351   31  tested_negative\n",
       "2     8   183    64     0     0  23.3  0.672   32  tested_positive\n",
       "3     1    89    66    23    94  28.1  0.167   21  tested_negative\n",
       "4     0   137    40    35   168  43.1  2.288   33  tested_positive"
      ]
     },
     "execution_count": 9,
     "metadata": {},
     "output_type": "execute_result"
    }
   ],
   "source": [
    "    dataset = pd.read_csv(open('diabetes_csv.csv','r'))\n",
    "    dataset.head()"
   ]
  },
  {
   "cell_type": "markdown",
   "metadata": {},
   "source": [
    "###### 2. Encode all values of the class\n",
    "tested_positive = 1, tested_negative = 0"
   ]
  },
  {
   "cell_type": "code",
   "execution_count": 10,
   "metadata": {
    "scrolled": true
   },
   "outputs": [
    {
     "data": {
      "text/html": [
       "<div>\n",
       "<style scoped>\n",
       "    .dataframe tbody tr th:only-of-type {\n",
       "        vertical-align: middle;\n",
       "    }\n",
       "\n",
       "    .dataframe tbody tr th {\n",
       "        vertical-align: top;\n",
       "    }\n",
       "\n",
       "    .dataframe thead th {\n",
       "        text-align: right;\n",
       "    }\n",
       "</style>\n",
       "<table border=\"1\" class=\"dataframe\">\n",
       "  <thead>\n",
       "    <tr style=\"text-align: right;\">\n",
       "      <th></th>\n",
       "      <th>preg</th>\n",
       "      <th>plas</th>\n",
       "      <th>pres</th>\n",
       "      <th>skin</th>\n",
       "      <th>insu</th>\n",
       "      <th>mass</th>\n",
       "      <th>pedi</th>\n",
       "      <th>age</th>\n",
       "      <th>class</th>\n",
       "    </tr>\n",
       "  </thead>\n",
       "  <tbody>\n",
       "    <tr>\n",
       "      <td>0</td>\n",
       "      <td>6</td>\n",
       "      <td>148</td>\n",
       "      <td>72</td>\n",
       "      <td>35</td>\n",
       "      <td>0</td>\n",
       "      <td>33.6</td>\n",
       "      <td>0.627</td>\n",
       "      <td>50</td>\n",
       "      <td>1</td>\n",
       "    </tr>\n",
       "    <tr>\n",
       "      <td>1</td>\n",
       "      <td>1</td>\n",
       "      <td>85</td>\n",
       "      <td>66</td>\n",
       "      <td>29</td>\n",
       "      <td>0</td>\n",
       "      <td>26.6</td>\n",
       "      <td>0.351</td>\n",
       "      <td>31</td>\n",
       "      <td>0</td>\n",
       "    </tr>\n",
       "    <tr>\n",
       "      <td>2</td>\n",
       "      <td>8</td>\n",
       "      <td>183</td>\n",
       "      <td>64</td>\n",
       "      <td>0</td>\n",
       "      <td>0</td>\n",
       "      <td>23.3</td>\n",
       "      <td>0.672</td>\n",
       "      <td>32</td>\n",
       "      <td>1</td>\n",
       "    </tr>\n",
       "    <tr>\n",
       "      <td>3</td>\n",
       "      <td>1</td>\n",
       "      <td>89</td>\n",
       "      <td>66</td>\n",
       "      <td>23</td>\n",
       "      <td>94</td>\n",
       "      <td>28.1</td>\n",
       "      <td>0.167</td>\n",
       "      <td>21</td>\n",
       "      <td>0</td>\n",
       "    </tr>\n",
       "    <tr>\n",
       "      <td>4</td>\n",
       "      <td>0</td>\n",
       "      <td>137</td>\n",
       "      <td>40</td>\n",
       "      <td>35</td>\n",
       "      <td>168</td>\n",
       "      <td>43.1</td>\n",
       "      <td>2.288</td>\n",
       "      <td>33</td>\n",
       "      <td>1</td>\n",
       "    </tr>\n",
       "  </tbody>\n",
       "</table>\n",
       "</div>"
      ],
      "text/plain": [
       "   preg  plas  pres  skin  insu  mass   pedi  age  class\n",
       "0     6   148    72    35     0  33.6  0.627   50      1\n",
       "1     1    85    66    29     0  26.6  0.351   31      0\n",
       "2     8   183    64     0     0  23.3  0.672   32      1\n",
       "3     1    89    66    23    94  28.1  0.167   21      0\n",
       "4     0   137    40    35   168  43.1  2.288   33      1"
      ]
     },
     "execution_count": 10,
     "metadata": {},
     "output_type": "execute_result"
    }
   ],
   "source": [
    "    classValue = {'tested_negative': 0,'tested_positive': 1} \n",
    "    dataset['class'] = [classValue[x] for x in dataset['class']]\n",
    "    dataset.head()"
   ]
  },
  {
   "cell_type": "markdown",
   "metadata": {},
   "source": [
    "###### 3. Shuffling the dataset\n",
    "###### 4. Split the dataset into test and training"
   ]
  },
  {
   "cell_type": "code",
   "execution_count": 11,
   "metadata": {
    "scrolled": true
   },
   "outputs": [
    {
     "name": "stdout",
     "output_type": "stream",
     "text": [
      "No. of testing rows:  153\n",
      "No. of training rows:  615\n"
     ]
    }
   ],
   "source": [
    "    # 3. \n",
    "    dataset = dataset.iloc[np.random.permutation(len(dataset))]\n",
    "    # 4. \n",
    "    test, train = splitData(dataset)\n",
    "    print(\"No. of testing rows: \", len(test['class']))\n",
    "    print(\"No. of training rows: \", len(train['class']))"
   ]
  },
  {
   "cell_type": "markdown",
   "metadata": {},
   "source": [
    "###### 5. Split training dataset by class (positive and negative)\n",
    "###### 6. Find the prior probability of both classes. "
   ]
  },
  {
   "cell_type": "code",
   "execution_count": 12,
   "metadata": {
    "scrolled": true
   },
   "outputs": [
    {
     "name": "stdout",
     "output_type": "stream",
     "text": [
      "Prior probability of 'tested_negative:  0.640650406504065\n",
      "Prior probability of 'tested_positive:  0.359349593495935\n"
     ]
    }
   ],
   "source": [
    "    # 5. \n",
    "    positiveT, negativeT = splitByClass(train)\n",
    "    \n",
    "    # 6.\n",
    "    priorP = len(positiveT['class'])/len(train['class'])   # priorP for the positive class\n",
    "    priorN = len(negativeT['class'])/len(train['class'])   # priorN for the negative one\n",
    "    \n",
    "    print(\"Prior probability of 'tested_negative: \", priorN)\n",
    "    print(\"Prior probability of 'tested_positive: \", priorP)"
   ]
  },
  {
   "cell_type": "markdown",
   "metadata": {},
   "source": [
    "###### 7. Get mean and variance for both classes\n",
    "###### 8. Split the feature and class of testing set\n",
    "###### 9. Find prediction on testing set"
   ]
  },
  {
   "cell_type": "code",
   "execution_count": 13,
   "metadata": {
    "scrolled": true
   },
   "outputs": [
    {
     "ename": "NameError",
     "evalue": "name 'makePrediction' is not defined",
     "output_type": "error",
     "traceback": [
      "\u001b[0;31m---------------------------------------------------------------------------\u001b[0m",
      "\u001b[0;31mNameError\u001b[0m                                 Traceback (most recent call last)",
      "\u001b[0;32m<ipython-input-13-9f2515d4c8af>\u001b[0m in \u001b[0;36m<module>\u001b[0;34m\u001b[0m\n\u001b[1;32m     15\u001b[0m \u001b[0mnPredict\u001b[0m \u001b[0;34m=\u001b[0m \u001b[0mCalculate\u001b[0m\u001b[0;34m(\u001b[0m\u001b[0mnegativeMV\u001b[0m\u001b[0;34m,\u001b[0m \u001b[0mtestF\u001b[0m\u001b[0;34m,\u001b[0m \u001b[0mpriorN\u001b[0m\u001b[0;34m)\u001b[0m\u001b[0;34m\u001b[0m\u001b[0;34m\u001b[0m\u001b[0m\n\u001b[1;32m     16\u001b[0m \u001b[0;31m#    9.2. Make predection\u001b[0m\u001b[0;34m\u001b[0m\u001b[0;34m\u001b[0m\u001b[0;34m\u001b[0m\u001b[0m\n\u001b[0;32m---> 17\u001b[0;31m \u001b[0mprediction\u001b[0m \u001b[0;34m=\u001b[0m \u001b[0mmakePrediction\u001b[0m\u001b[0;34m(\u001b[0m\u001b[0mpPredict\u001b[0m\u001b[0;34m,\u001b[0m \u001b[0mnPredict\u001b[0m\u001b[0;34m)\u001b[0m\u001b[0;34m\u001b[0m\u001b[0;34m\u001b[0m\u001b[0m\n\u001b[0m\u001b[1;32m     18\u001b[0m \u001b[0mprint\u001b[0m\u001b[0;34m(\u001b[0m\u001b[0;34m\"Prediction result:\\n\\n\"\u001b[0m\u001b[0;34m,\u001b[0m\u001b[0mprediction\u001b[0m \u001b[0;34m)\u001b[0m\u001b[0;34m\u001b[0m\u001b[0;34m\u001b[0m\u001b[0m\n",
      "\u001b[0;31mNameError\u001b[0m: name 'makePrediction' is not defined"
     ]
    }
   ],
   "source": [
    "    # 7. \n",
    "    #    7.1. get mean\n",
    "    positiveMV , negativeMV = mean(positiveT, negativeT)\n",
    "    #    7.1. get variance\n",
    "    positiveMV = variance(positiveT,positiveMV)\n",
    "    negativeMV = variance(negativeT, negativeMV)\n",
    "    \n",
    "    # 8. \n",
    "    testF = test.iloc[:, 0:8]\n",
    "    testC = test.iloc[:,-1]\n",
    "\n",
    "    # 9.\n",
    "    #    9.1. find predicts of both classes\n",
    "    pPredict = Calculate(positiveMV, testF, priorP)\n",
    "    nPredict = Calculate(negativeMV, testF, priorN)\n",
    "    #    9.2. Make predection\n",
    "    prediction = makePrediction(pPredict, nPredict)\n",
    "    print(\"Prediction result:\\n\\n\",prediction )\n"
   ]
  },
  {
   "cell_type": "markdown",
   "metadata": {},
   "source": [
    "###### 10. Calculate accuracy, precision and recall"
   ]
  },
  {
   "cell_type": "code",
   "execution_count": null,
   "metadata": {
    "scrolled": true
   },
   "outputs": [],
   "source": [
    "    accuracy, precision, recall = getAccuracy(prediction, testC.values.tolist())\n",
    "    print(\"accuracy: \",accuracy,\"%\\nprecision: \",precision,\"\\nrecall: \",recall)\n"
   ]
  },
  {
   "cell_type": "markdown",
   "metadata": {},
   "source": [
    "###### 11. Plot a scatter plot of the data"
   ]
  },
  {
   "cell_type": "code",
   "execution_count": null,
   "metadata": {
    "scrolled": true
   },
   "outputs": [],
   "source": [
    "\n",
    "    g = sns.scatterplot(x=\"pedi\", y=\"mass\", hue=\"class\", data=dataset);\n",
    "    "
   ]
  },
  {
   "cell_type": "code",
   "execution_count": null,
   "metadata": {
    "scrolled": true
   },
   "outputs": [],
   "source": []
  }
 ],
 "metadata": {
  "kernelspec": {
   "display_name": "Python 3",
   "language": "python",
   "name": "python3"
  },
  "language_info": {
   "codemirror_mode": {
    "name": "ipython",
    "version": 3
   },
   "file_extension": ".py",
   "mimetype": "text/x-python",
   "name": "python",
   "nbconvert_exporter": "python",
   "pygments_lexer": "ipython3",
   "version": "3.7.4"
  }
 },
 "nbformat": 4,
 "nbformat_minor": 2
}
